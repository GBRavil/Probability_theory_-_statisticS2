{
 "cells": [
  {
   "cell_type": "code",
   "execution_count": null,
   "id": "44899cb7",
   "metadata": {},
   "outputs": [],
   "source": [
    "# 4. В университет на факультеты A и B поступило равное количество студентов, а на факультет C студентов поступило столько же, \n",
    "# сколько на A и B вместе. Вероятность того, что студент факультета A сдаст первую сессию, равна 0.8. \n",
    "# Для студента факультета B эта вероятность равна 0.7, а для студента факультета C - 0.9. Студент сдал первую сессию. \n",
    "# Какова вероятность, что он учится: a). на факультете A б). на факультете B в). на факультете C?"
   ]
  },
  {
   "cell_type": "code",
   "execution_count": 4,
   "id": "6e1c776c",
   "metadata": {},
   "outputs": [
    {
     "name": "stdout",
     "output_type": "stream",
     "text": [
      "Полная вероятность наступления события D, P(D) = 0.825.\n"
     ]
    }
   ],
   "source": [
    "PD=0.25*0.8+0.25*0.7+0.5*0.9\n",
    "print(f'Полная вероятность наступления события D, P(D) = {PD}.')"
   ]
  },
  {
   "cell_type": "code",
   "execution_count": 5,
   "id": "aa8935c1",
   "metadata": {},
   "outputs": [
    {
     "name": "stdout",
     "output_type": "stream",
     "text": [
      "Вероятность того, что студент учится на факультете А:  0.2424;\n",
      "Вероятность того, что студент учится на факультете B:  0.2121;\n",
      "Вероятность того, что студент учится на факультете C:  0.5455.\n"
     ]
    }
   ],
   "source": [
    "PDSA=0.25*0.8/PD\n",
    "PDSB=0.25*0.7/PD\n",
    "PDSC=0.5*0.9/PD\n",
    "print(f'Вероятность того, что студент учится на факультете А: {PDSA: .4f};\\n'\n",
    "      f'Вероятность того, что студент учится на факультете B: {PDSB: .4f};\\n'\n",
    "      f'Вероятность того, что студент учится на факультете C: {PDSC: .4f}.'\n",
    "      )"
   ]
  }
 ],
 "metadata": {
  "kernelspec": {
   "display_name": "Python 3 (ipykernel)",
   "language": "python",
   "name": "python3"
  },
  "language_info": {
   "codemirror_mode": {
    "name": "ipython",
    "version": 3
   },
   "file_extension": ".py",
   "mimetype": "text/x-python",
   "name": "python",
   "nbconvert_exporter": "python",
   "pygments_lexer": "ipython3",
   "version": "3.9.13"
  }
 },
 "nbformat": 4,
 "nbformat_minor": 5
}
