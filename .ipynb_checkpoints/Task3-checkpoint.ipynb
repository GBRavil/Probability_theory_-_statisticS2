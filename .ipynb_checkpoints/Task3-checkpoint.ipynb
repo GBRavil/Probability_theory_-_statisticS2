{
 "cells": [
  {
   "cell_type": "code",
   "execution_count": null,
   "id": "fbba67fc",
   "metadata": {},
   "outputs": [],
   "source": [
    "# 3. На соревновании по биатлону один из трех спортсменов стреляет и попадает в мишень. Вероятность попадания для первого \n",
    "# спортсмена равна 0.9, для второго — 0.8, для третьего — 0.6. Найти вероятность того, что выстрел произведен: \n",
    "# a). первым спортсменом б). вторым спортсменом в). третьим спортсменом."
   ]
  },
  {
   "cell_type": "code",
   "execution_count": 4,
   "id": "1a283f88",
   "metadata": {},
   "outputs": [
    {
     "name": "stdout",
     "output_type": "stream",
     "text": [
      "Полная вероятность наступления события А Р(А) =  0.7667\n"
     ]
    }
   ],
   "source": [
    "PB=1/3\n",
    "PA=PB*0.9+PB*0.8+PB*0.6\n",
    "print(f'Полная вероятность наступления события А Р(А) = {PA: .4f}')"
   ]
  },
  {
   "cell_type": "code",
   "execution_count": 5,
   "id": "03187924",
   "metadata": {},
   "outputs": [
    {
     "name": "stdout",
     "output_type": "stream",
     "text": [
      "Вероятность того, что выстрел произвёл первый спортсмен:  0.3913;\n",
      "Вероятность того, что выстрел произвёл второй спортсмен:  0.3478;\n",
      "Вероятность того, что выстрел произвёл третий спортсмен:  0.2609.\n"
     ]
    }
   ],
   "source": [
    "PAB1=PB*0.9/PA\n",
    "PAB2=PB*0.8/PA\n",
    "PAB3=PB*0.6/PA\n",
    "print(f'Вероятность того, что выстрел произвёл первый спортсмен: {PAB1: .4f};\\n'\n",
    "      f'Вероятность того, что выстрел произвёл второй спортсмен: {PAB2: .4f};\\n'\n",
    "      f'Вероятность того, что выстрел произвёл третий спортсмен: {PAB3: .4f}.'\n",
    "     )"
   ]
  },
  {
   "cell_type": "code",
   "execution_count": null,
   "id": "5b7a4b98",
   "metadata": {},
   "outputs": [],
   "source": []
  }
 ],
 "metadata": {
  "kernelspec": {
   "display_name": "Python 3 (ipykernel)",
   "language": "python",
   "name": "python3"
  },
  "language_info": {
   "codemirror_mode": {
    "name": "ipython",
    "version": 3
   },
   "file_extension": ".py",
   "mimetype": "text/x-python",
   "name": "python",
   "nbconvert_exporter": "python",
   "pygments_lexer": "ipython3",
   "version": "3.9.13"
  }
 },
 "nbformat": 4,
 "nbformat_minor": 5
}
