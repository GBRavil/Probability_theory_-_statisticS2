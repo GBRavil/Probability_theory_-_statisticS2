{
 "cells": [
  {
   "cell_type": "code",
   "execution_count": 2,
   "id": "a7978680",
   "metadata": {},
   "outputs": [],
   "source": [
    "# 5. Устройство состоит из трех деталей. Для первой детали вероятность выйти из строя в первый месяц равна 0.1, \n",
    "# для второй - 0.2, для третьей - 0.25. Какова вероятность того, что в первый месяц выйдут из строя: \n",
    "# а). все детали б). только две детали в). хотя бы одна деталь г). от одной до двух деталей?"
   ]
  },
  {
   "cell_type": "code",
   "execution_count": 3,
   "id": "deb7b308",
   "metadata": {},
   "outputs": [
    {
     "name": "stdout",
     "output_type": "stream",
     "text": [
      "Вероятность того, что из строя выйдут все детали Р(3) =  0.0050\n"
     ]
    }
   ],
   "source": [
    "# а). все детали\n",
    "P3 = 0.1*0.2*0.25\n",
    "print(f'Вероятность того, что из строя выйдут все детали Р(3) = {P3: .4f}')"
   ]
  },
  {
   "cell_type": "code",
   "execution_count": 4,
   "id": "c2cc7b7d",
   "metadata": {},
   "outputs": [
    {
     "name": "stdout",
     "output_type": "stream",
     "text": [
      "Вероятность того, что из строя выйдут только 2 детали Р(2) =  0.0800\n"
     ]
    }
   ],
   "source": [
    "# б). только две детали\n",
    "P2 = 0.1*0.2*0.75+0.1*0.25*0.8+0.2*0.25*0.9\n",
    "print(f'Вероятность того, что из строя выйдут только 2 детали Р(2) = {P2: .4f}')"
   ]
  },
  {
   "cell_type": "code",
   "execution_count": 10,
   "id": "16075eef",
   "metadata": {},
   "outputs": [
    {
     "name": "stdout",
     "output_type": "stream",
     "text": [
      "Вероятность того, что из строя не выйдет ни одной детали Р(0) =  0.5400\n",
      "Вероятность того, что выйдет из строя хотя бы одна деталь Р(>=1) =  0.4600\n"
     ]
    }
   ],
   "source": [
    "# в). хотя бы одна деталь\n",
    "P0 = 0.9*0.8*0.75\n",
    "print(f'Вероятность того, что из строя не выйдет ни одной детали Р(0) = {P0: .4f}')\n",
    "P_0 = 1-P0\n",
    "print(f'Вероятность того, что выйдет из строя хотя бы одна деталь Р(>=1) = {P_0: .4f}')"
   ]
  },
  {
   "cell_type": "code",
   "execution_count": 13,
   "id": "680784e7",
   "metadata": {},
   "outputs": [
    {
     "name": "stdout",
     "output_type": "stream",
     "text": [
      "Вероятность того, что выйдет из строя одна деталь Р(1) =  0.3750\n",
      "Вероятность того, что выйдет из строя от одной до двух деталей Р(1,2) =  0.4550\n"
     ]
    }
   ],
   "source": [
    "# г). от одной до двух деталей?\n",
    "P1 = 0.1*0.8*0.75+0.2*0.9*0.75+0.25*0.9*0.8\n",
    "print(f'Вероятность того, что выйдет из строя одна деталь Р(1) = {P1: .4f}')\n",
    "P1_2 = P1 + P2\n",
    "print(f'Вероятность того, что выйдет из строя от одной до двух деталей Р(1,2) = {P1_2: .4f}')"
   ]
  },
  {
   "cell_type": "code",
   "execution_count": null,
   "id": "8a006de8",
   "metadata": {},
   "outputs": [],
   "source": []
  }
 ],
 "metadata": {
  "kernelspec": {
   "display_name": "Python 3 (ipykernel)",
   "language": "python",
   "name": "python3"
  },
  "language_info": {
   "codemirror_mode": {
    "name": "ipython",
    "version": 3
   },
   "file_extension": ".py",
   "mimetype": "text/x-python",
   "name": "python",
   "nbconvert_exporter": "python",
   "pygments_lexer": "ipython3",
   "version": "3.9.13"
  }
 },
 "nbformat": 4,
 "nbformat_minor": 5
}
