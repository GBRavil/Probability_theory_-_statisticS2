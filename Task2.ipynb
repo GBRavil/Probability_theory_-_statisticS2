{
 "cells": [
  {
   "cell_type": "code",
   "execution_count": null,
   "id": "b822f8ee",
   "metadata": {},
   "outputs": [],
   "source": [
    "# 2. В первом ящике находится 8 мячей, из которых 5 - белые. Во втором ящике - 12 мячей, из которых 5 белых. \n",
    "# Из первого ящика вытаскивают случайным образом два мяча, из второго - 4 мяча. Какова вероятность того, что 3 мяча белые?"
   ]
  },
  {
   "cell_type": "code",
   "execution_count": 2,
   "id": "b7b64c6b",
   "metadata": {},
   "outputs": [],
   "source": [
    "import numpy as np\n",
    "from math import factorial"
   ]
  },
  {
   "cell_type": "code",
   "execution_count": 3,
   "id": "f97d43e4",
   "metadata": {},
   "outputs": [],
   "source": [
    "def combinations(n,k):\n",
    "    return factorial(n)/(factorial(k)*factorial(n-k))"
   ]
  },
  {
   "cell_type": "code",
   "execution_count": 8,
   "id": "f786ad87",
   "metadata": {},
   "outputs": [
    {
     "name": "stdout",
     "output_type": "stream",
     "text": [
      "Вероятность события \"из первой корзины не вытащили ни одного белого мяча, из второй вытащили 3 белых мяча\"\n",
      "P(A1) =  0.0152\n"
     ]
    }
   ],
   "source": [
    "P1=(combinations(3,2)/combinations(8,2))*(combinations(5,3)*combinations(7,1)/combinations(12,4))\n",
    "print(f'Вероятность события \"из первой корзины не вытащили ни одного белого мяча'\n",
    "      f', из второй вытащили 3 белых мяча\"\\nP(A1) = {P1: .4f}'\n",
    "     )"
   ]
  },
  {
   "cell_type": "code",
   "execution_count": 10,
   "id": "0d6507a3",
   "metadata": {},
   "outputs": [
    {
     "name": "stdout",
     "output_type": "stream",
     "text": [
      "Вероятность события \"из первой корзины вытащили 1 белый мяч, из второй вытащили 2 белых мяча\"\n",
      "P(A2) =  0.2273\n"
     ]
    }
   ],
   "source": [
    "P2=(combinations(5,1)*combinations(3,1)*combinations(5,2)*combinations(7,2))/(combinations(8,2)*combinations(12,4))\n",
    "print(f'Вероятность события \"из первой корзины вытащили 1 белый мяч'\n",
    "      f', из второй вытащили 2 белых мяча\"\\nP(A2) = {P2: .4f}'\n",
    "     )"
   ]
  },
  {
   "cell_type": "code",
   "execution_count": 11,
   "id": "832e88c4",
   "metadata": {},
   "outputs": [
    {
     "name": "stdout",
     "output_type": "stream",
     "text": [
      "Вероятность события \"из первой корзины вытащили 2 белых мяча, из второй вытащили 1 белый мяч\"\n",
      "P(A2) =  0.1263\n"
     ]
    }
   ],
   "source": [
    "P3=(combinations(5,2)*combinations(5,1)*combinations(7,3))/(combinations(8,2)*combinations(12,4))\n",
    "print(f'Вероятность события \"из первой корзины вытащили 2 белых мяча'\n",
    "      f', из второй вытащили 1 белый мяч\"\\nP(A2) = {P3: .4f}'\n",
    "     )"
   ]
  },
  {
   "cell_type": "code",
   "execution_count": 12,
   "id": "1db970e5",
   "metadata": {},
   "outputs": [
    {
     "name": "stdout",
     "output_type": "stream",
     "text": [
      "Вероятность того, что из вытащенных мячей 3 белые Р(А) =  0.3687\n"
     ]
    }
   ],
   "source": [
    "print(f'Вероятность того, что из вытащенных мячей 3 белые Р(А) = {P1+P2+P3: .4f}')"
   ]
  }
 ],
 "metadata": {
  "kernelspec": {
   "display_name": "Python 3 (ipykernel)",
   "language": "python",
   "name": "python3"
  },
  "language_info": {
   "codemirror_mode": {
    "name": "ipython",
    "version": 3
   },
   "file_extension": ".py",
   "mimetype": "text/x-python",
   "name": "python",
   "nbconvert_exporter": "python",
   "pygments_lexer": "ipython3",
   "version": "3.9.13"
  }
 },
 "nbformat": 4,
 "nbformat_minor": 5
}
